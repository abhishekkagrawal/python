{
  "nbformat": 4,
  "nbformat_minor": 0,
  "metadata": {
    "colab": {
      "name": "letsupgrade-silver-project-day4.ipynb",
      "provenance": [],
      "authorship_tag": "ABX9TyNjeFi7muWSF3iOHLZizYCv",
      "include_colab_link": true
    },
    "kernelspec": {
      "name": "python3",
      "display_name": "Python 3"
    }
  },
  "cells": [
    {
      "cell_type": "markdown",
      "metadata": {
        "id": "view-in-github",
        "colab_type": "text"
      },
      "source": [
        "<a href=\"https://colab.research.google.com/github/abhishekkagrawal/python/blob/master/letsupgrade_silver_project_day4.ipynb\" target=\"_parent\"><img src=\"https://colab.research.google.com/assets/colab-badge.svg\" alt=\"Open In Colab\"/></a>"
      ]
    },
    {
      "cell_type": "markdown",
      "metadata": {
        "id": "vxP37o5uRtmE",
        "colab_type": "text"
      },
      "source": [
        "TIC-TAC-TOE Project"
      ]
    },
    {
      "cell_type": "code",
      "metadata": {
        "id": "lNXbfRVwRe6u",
        "colab_type": "code",
        "colab": {}
      },
      "source": [
        "# Steps 1 - Create 3x3 board for TIC-TAC-TOE\n",
        "from IPython.display import clear_output\n",
        "\n",
        "def show_tic_toc_toe_board(board):\n",
        "    clear_output()\n",
        "    print('',board[7] ,'|', board[8],'|',board[9])\n",
        "    print('------------')\n",
        "    print('',board[4] ,'|', board[5],'|',board[6])\n",
        "    print('------------')  \n",
        "    print('',board[1] ,'|', board[2],'|',board[3])"
      ],
      "execution_count": 0,
      "outputs": []
    },
    {
      "cell_type": "code",
      "metadata": {
        "id": "zHCEu1EMSxeF",
        "colab_type": "code",
        "colab": {}
      },
      "source": [
        "# board=[0,1,2,3,4,5,6,7,8,9]\n",
        "board=['#','X','O','X','O','X','O','X','O','X']\n",
        "show_tic_toc_toe_board(board)\n"
      ],
      "execution_count": 0,
      "outputs": []
    },
    {
      "cell_type": "code",
      "metadata": {
        "id": "ZLfO7NwuVMnd",
        "colab_type": "code",
        "colab": {}
      },
      "source": [
        "# Step 2\n",
        "def take_XO_input():\n",
        "    xo_input=''\n",
        "\n",
        "    while not (xo_input == 'X' or xo_input == 'O'):\n",
        "        xo_input = input('Select X or O to play TIC TAC TOE:').upper()\n",
        "\n",
        "    if (xo_input == 'X'):\n",
        "        return ('X','O')\n",
        "    else:\n",
        "        return ('O','X')    \n",
        "    "
      ],
      "execution_count": 0,
      "outputs": []
    },
    {
      "cell_type": "code",
      "metadata": {
        "id": "4xQFvB_9WHCa",
        "colab_type": "code",
        "colab": {}
      },
      "source": [
        "print(take_XO_input())"
      ],
      "execution_count": 0,
      "outputs": []
    },
    {
      "cell_type": "code",
      "metadata": {
        "id": "OFdvYysgWzIE",
        "colab_type": "code",
        "colab": {}
      },
      "source": [
        "# Step 3 - Place X or O in the position inputed\n",
        "def place_XO_at_inputted_position(board, xo_input, position):\n",
        "    board[position] = xo_input"
      ],
      "execution_count": 0,
      "outputs": []
    },
    {
      "cell_type": "code",
      "metadata": {
        "id": "WE05AQkeXM8m",
        "colab_type": "code",
        "colab": {}
      },
      "source": [
        "place_XO_at_inputted_position(board, 'X', 3)\n",
        "show_tic_toc_toe_board(board)"
      ],
      "execution_count": 0,
      "outputs": []
    },
    {
      "cell_type": "code",
      "metadata": {
        "id": "1ZIHycyQi446",
        "colab_type": "code",
        "colab": {}
      },
      "source": [
        "# Step 4\n",
        "def check_win(board, xo_input):\n",
        "    if( (board[7] == xo_input and board[8] == xo_input and board[9] == xo_input) or\n",
        "        (board[4] == xo_input and board[5] == xo_input and board[6] == xo_input) or\n",
        "        (board[1] == xo_input and board[2] == xo_input and board[3] == xo_input) or\n",
        "        (board[7] == xo_input and board[4] == xo_input and board[1] == xo_input) or\n",
        "        (board[8] == xo_input and board[5] == xo_input and board[2] == xo_input) or\n",
        "        (board[9] == xo_input and board[6] == xo_input and board[3] == xo_input) or\n",
        "        (board[7] == xo_input and board[5] == xo_input and board[3] == xo_input) or\n",
        "        (board[9] == xo_input and board[5] == xo_input and board[1] == xo_input)) :\n",
        "        return True\n",
        "    else:\n",
        "        return False\n"
      ],
      "execution_count": 0,
      "outputs": []
    },
    {
      "cell_type": "code",
      "metadata": {
        "id": "5Ir118eooVNr",
        "colab_type": "code",
        "colab": {}
      },
      "source": [
        "check_win(board,'X')"
      ],
      "execution_count": 0,
      "outputs": []
    },
    {
      "cell_type": "code",
      "metadata": {
        "id": "xQ1NP5iOolTO",
        "colab_type": "code",
        "colab": {}
      },
      "source": [
        "# Step 5\n",
        "import random\n",
        "\n",
        "def choose_whose_turn():\n",
        "    num = random.randint(0,1)\n",
        "\n",
        "    if(num == 1):\n",
        "        return 'Player 1'\n",
        "    else:\n",
        "        return 'Player 2'\n",
        "\n"
      ],
      "execution_count": 0,
      "outputs": []
    },
    {
      "cell_type": "code",
      "metadata": {
        "id": "T7dYZmFSpG6k",
        "colab_type": "code",
        "colab": {}
      },
      "source": [
        "choose_whose_turn()"
      ],
      "execution_count": 0,
      "outputs": []
    },
    {
      "cell_type": "code",
      "metadata": {
        "id": "TiwM_1L6pSyy",
        "colab_type": "code",
        "colab": {}
      },
      "source": [
        "# Step 6\n",
        "\n",
        "def check_board_position_has_space(board,position):\n",
        "    return board[position]==' '"
      ],
      "execution_count": 0,
      "outputs": []
    },
    {
      "cell_type": "code",
      "metadata": {
        "id": "DVX-jVXwpnsn",
        "colab_type": "code",
        "colab": {}
      },
      "source": [
        "board_with_blank=['#','X',' ','X','O',' ','O','X','O',' ']\n",
        "check_board_position_has_space(board_with_blank,1)"
      ],
      "execution_count": 0,
      "outputs": []
    },
    {
      "cell_type": "code",
      "metadata": {
        "id": "c8UVdB9-p9_6",
        "colab_type": "code",
        "colab": {}
      },
      "source": [
        "# Step 7\n",
        "\n",
        "def check_is_board_full(board):\n",
        "    is_full = True\n",
        "    for i in board:\n",
        "        if (i == ' '):\n",
        "            is_full = False\n",
        "            break\n",
        "    return is_full\n"
      ],
      "execution_count": 0,
      "outputs": []
    },
    {
      "cell_type": "code",
      "metadata": {
        "id": "dJx6-VcTql6C",
        "colab_type": "code",
        "colab": {}
      },
      "source": [
        "full_board=['#','X','O','X','O','X','O','X','O','X']\n",
        "print(check_is_board_full(full_board))\n",
        "print(check_is_board_full(board_with_blank))"
      ],
      "execution_count": 0,
      "outputs": []
    },
    {
      "cell_type": "code",
      "metadata": {
        "id": "5PkYQ7HPrMRY",
        "colab_type": "code",
        "colab": {}
      },
      "source": [
        "# Step 7\n",
        "\n",
        "def is_board_full(board):\n",
        "    for i in range(1,10):\n",
        "        if (check_board_position_has_space(board,i)):\n",
        "            return False\n",
        "    return True\n"
      ],
      "execution_count": 0,
      "outputs": []
    },
    {
      "cell_type": "code",
      "metadata": {
        "id": "NZXmd2ceswon",
        "colab_type": "code",
        "colab": {}
      },
      "source": [
        "print(is_board_full(full_board))\n",
        "print(is_board_full(board_with_blank))"
      ],
      "execution_count": 0,
      "outputs": []
    },
    {
      "cell_type": "code",
      "metadata": {
        "id": "nvhm_I-7tj_Z",
        "colab_type": "code",
        "colab": {}
      },
      "source": [
        "# Step 8\n",
        "import re\n",
        "\n",
        "def let_players_choice_position(board):\n",
        "    position = 0\n",
        "    \n",
        "    while not int(position) in [1,2,3,4,5,6,7,8,9] or not check_board_position_has_space(board,int(position)):        \n",
        "        position = input('Enter you next position (i.e. 1 - 9) to place X / O:')\n",
        "        if (re.match('[^1-9]',position)):\n",
        "            print('Position value should numeric between 1 to 9')\n",
        "            position = 0\n",
        "        elif(int(position) in [1,2,3,4,5,6,7,8,9] and not check_board_position_has_space(board,int(position))):\n",
        "            print('X / O already exists in {} position'.format(position))    \n",
        "        \n",
        "    return int(position)"
      ],
      "execution_count": 0,
      "outputs": []
    },
    {
      "cell_type": "code",
      "metadata": {
        "id": "jQrq3yXyx2Kg",
        "colab_type": "code",
        "colab": {}
      },
      "source": [
        "let_players_choice_position(board_with_blank)"
      ],
      "execution_count": 0,
      "outputs": []
    },
    {
      "cell_type": "code",
      "metadata": {
        "id": "rKWuOPcL2tqr",
        "colab_type": "code",
        "colab": {}
      },
      "source": [
        "# Step 9\n",
        "def play_again():    \n",
        "    return input('Do you want to play again (Y/N):').lower().startswith('y')"
      ],
      "execution_count": 0,
      "outputs": []
    },
    {
      "cell_type": "code",
      "metadata": {
        "id": "aCONfKKv3PsF",
        "colab_type": "code",
        "colab": {}
      },
      "source": [
        "play_again()"
      ],
      "execution_count": 0,
      "outputs": []
    },
    {
      "cell_type": "code",
      "metadata": {
        "id": "iXw60JY05Dm9",
        "colab_type": "code",
        "colab": {}
      },
      "source": [
        "player1_input, player2_input = take_XO_input()\n",
        "player_turn = choose_whose_turn()\n",
        "\n",
        "print(player1_input,player2_input)\n",
        "print('{} will play first'.format(player_turn))"
      ],
      "execution_count": 0,
      "outputs": []
    },
    {
      "cell_type": "code",
      "metadata": {
        "id": "6bOowzvE3g1z",
        "colab_type": "code",
        "colab": {}
      },
      "source": [
        "# Step 10\n",
        "# Final Assembly of all methods created above\n",
        "while True:\n",
        "    final_board = [' '] * 10\n",
        "\n",
        "    lets_play = input('Are you ready to play TIC-TAC-TOE game (Y/N):').lower().startswith('y')\n",
        "    if lets_play:\n",
        "        game_on = True\n",
        "    else:\n",
        "        game_on = False\n",
        "    \n",
        "    if game_on:\n",
        "        player1_input, player2_input = take_XO_input()\n",
        "        player_turn = choose_whose_turn()\n",
        "\n",
        "        print('{} will play first'.format(player_turn))\n",
        "    \n",
        "    while game_on:        \n",
        "\n",
        "        if (player_turn == 'Player 1'):\n",
        "            show_tic_toc_toe_board(final_board)\n",
        "            xo_position = let_players_choice_position(final_board)\n",
        "            # print(final_board, player1_input, xo_position)\n",
        "            place_XO_at_inputted_position(final_board, player1_input, xo_position)\n",
        "\n",
        "            if(check_win(final_board, player1_input)):\n",
        "                show_tic_toc_toe_board(final_board)\n",
        "                print('{} has won the game. Congrats !!!'.format(player_turn))\n",
        "                game_on= False\n",
        "            else:\n",
        "                if (is_board_full(final_board)):\n",
        "                    show_tic_toc_toe_board(final_board)\n",
        "                    print('None of the player won, Game is Drawn. Better Luck Next Time')\n",
        "                    break\n",
        "                else:\n",
        "                    player_turn = 'Player 2'\n",
        "        else:\n",
        "            show_tic_toc_toe_board(final_board)\n",
        "            xo_position = let_players_choice_position(final_board)\n",
        "            place_XO_at_inputted_position(final_board, player2_input, xo_position)\n",
        "\n",
        "            if(check_win(final_board, player2_input)):\n",
        "                show_tic_toc_toe_board(final_board)\n",
        "                print('{} has won the game. Congrats !!!'.format(player_turn))\n",
        "                game_on= False\n",
        "            else:\n",
        "                if (is_board_full(final_board)):\n",
        "                    show_tic_toc_toe_board(final_board)\n",
        "                    print('None of the player won, Game is Drawn. Better Luck Next Time')\n",
        "                    break\n",
        "                else:\n",
        "                    player_turn = 'Player 1'\n",
        "    \n",
        "    if not game_on or not play_again():\n",
        "        break;\n",
        "\n",
        "\n",
        "    \n"
      ],
      "execution_count": 0,
      "outputs": []
    }
  ]
}